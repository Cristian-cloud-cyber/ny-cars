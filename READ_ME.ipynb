{
 "cells": [
  {
   "cell_type": "markdown",
   "metadata": {},
   "source": [
    "# READ ME FILE\n",
    "As you can see, this is my project for the exam of Programming I did.   \n",
    "If you're going to see from which site I got my original data, you can see into:  \n",
    "https://www.kaggle.com/code/aldhanekadev/nyc-cars-analysis/notebook\n",
    "## About Dataset\n",
    "You have access to two datasets: one exclusively containing car ratings, and the other containing detailed car features. These datasets provide an opportunity to work with real data, enabling you to practice various data analytics techniques such as data visualization, regression analysis for predicting prices, and classification tasks such as brand classification.\n",
    "\n"
   ]
  },
  {
   "cell_type": "markdown",
   "metadata": {},
   "source": [
    "## What's important?\n",
    "Agreeing with these date, we assume we have a large work to do on elaboration and cleaning of a great set of informations. In addition, these 2 dataframes are going to be unified to get all data integrated to a common column. \n",
    "Another topic to say is: which part of these data are we going to analyze? And what are the model are we going to fit to these informations? \n",
    "Let's see what's going on with the Cars Market in New York and which kind of iphotesis we can obtain from these data on the current status of these society? "
   ]
  },
  {
   "cell_type": "markdown",
   "metadata": {},
   "source": [
    "# Rules to follow\n",
    "To see my web app you need to create and load a Virtual Environment in which insert the installation's requirements, \n",
    "1. Open the PowerShell terminal\n",
    "2. With **dir** command, see which folders to enter then, with the cd command \"reference folder to enter\" (if you get the wrong folder come back with \"cd..\")\n",
    "3. Arrived in the folder create the environment by entering the command in the terminal \"python -m venv myenv1\", myenv1 is the name for example of the environment\n",
    "4. Then you have to activate it in order to use it with: \"myenv\\Scripts\\activate\"\n",
    "5. If you are using Visual Studio Code Ide, which I warmly suggest, press Ctrl+Shift+P and Select for an Interpreter, so Find it in the file of your new environment and go for finding out the file python.exe, selecting it. \n",
    "5. Once that's done you have to give the environment a chance to arm itself with the requirements and then the libraries it needs to understand the code, so you have to rely on a file called 'requirements.txt' and install it with \"pip install -r requirements.txt\""
   ]
  }
 ],
 "metadata": {
  "kernelspec": {
   "display_name": "exam_env",
   "language": "python",
   "name": "python3"
  },
  "language_info": {
   "name": "python",
   "version": "3.11.4"
  }
 },
 "nbformat": 4,
 "nbformat_minor": 2
}
